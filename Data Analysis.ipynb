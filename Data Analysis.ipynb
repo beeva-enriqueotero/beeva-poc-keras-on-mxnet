{
 "cells": [
  {
   "cell_type": "code",
   "execution_count": 55,
   "metadata": {
    "collapsed": true
   },
   "outputs": [],
   "source": [
    "import pandas as pd\n",
    "import numpy as np\n",
    "import pylab as plt"
   ]
  },
  {
   "cell_type": "markdown",
   "metadata": {},
   "source": [
    "## LeNet CNN"
   ]
  },
  {
   "cell_type": "code",
   "execution_count": 23,
   "metadata": {},
   "outputs": [],
   "source": [
    "results = pd.read_csv('results.csv')"
   ]
  },
  {
   "cell_type": "code",
   "execution_count": 89,
   "metadata": {},
   "outputs": [
    {
     "data": {
      "text/html": [
       "<div>\n",
       "<table border=\"1\" class=\"dataframe\">\n",
       "  <thead>\n",
       "    <tr style=\"text-align: right;\">\n",
       "      <th></th>\n",
       "      <th>infrastructure</th>\n",
       "      <th>model</th>\n",
       "      <th>script</th>\n",
       "      <th>batch size</th>\n",
       "      <th>gpus</th>\n",
       "      <th>accuracy</th>\n",
       "      <th>epochs</th>\n",
       "      <th>time</th>\n",
       "      <th>samples_sec</th>\n",
       "    </tr>\n",
       "  </thead>\n",
       "  <tbody>\n",
       "    <tr>\n",
       "      <th>0</th>\n",
       "      <td>1</td>\n",
       "      <td>lenet</td>\n",
       "      <td>keras_mxnet_lenet</td>\n",
       "      <td>64</td>\n",
       "      <td>0</td>\n",
       "      <td>0.991</td>\n",
       "      <td>12</td>\n",
       "      <td>255.7</td>\n",
       "      <td>235</td>\n",
       "    </tr>\n",
       "    <tr>\n",
       "      <th>1</th>\n",
       "      <td>1</td>\n",
       "      <td>lenet</td>\n",
       "      <td>keras_mxnet_lenet</td>\n",
       "      <td>128</td>\n",
       "      <td>0</td>\n",
       "      <td>0.988</td>\n",
       "      <td>12</td>\n",
       "      <td>263.2</td>\n",
       "      <td>228</td>\n",
       "    </tr>\n",
       "    <tr>\n",
       "      <th>2</th>\n",
       "      <td>1</td>\n",
       "      <td>lenet</td>\n",
       "      <td>keras_mxnet_lenet</td>\n",
       "      <td>256</td>\n",
       "      <td>0</td>\n",
       "      <td>0.987</td>\n",
       "      <td>12</td>\n",
       "      <td>232.4</td>\n",
       "      <td>258</td>\n",
       "    </tr>\n",
       "    <tr>\n",
       "      <th>3</th>\n",
       "      <td>1</td>\n",
       "      <td>lenet</td>\n",
       "      <td>keras_mxnet_lenet</td>\n",
       "      <td>512</td>\n",
       "      <td>0</td>\n",
       "      <td>0.986</td>\n",
       "      <td>12</td>\n",
       "      <td>212.4</td>\n",
       "      <td>283</td>\n",
       "    </tr>\n",
       "    <tr>\n",
       "      <th>4</th>\n",
       "      <td>1</td>\n",
       "      <td>lenet</td>\n",
       "      <td>keras_mxnet_lenet</td>\n",
       "      <td>64</td>\n",
       "      <td>1</td>\n",
       "      <td>0.982</td>\n",
       "      <td>12</td>\n",
       "      <td>5.9</td>\n",
       "      <td>10203</td>\n",
       "    </tr>\n",
       "  </tbody>\n",
       "</table>\n",
       "</div>"
      ],
      "text/plain": [
       "   infrastructure  model             script  batch size  gpus  accuracy  \\\n",
       "0               1  lenet  keras_mxnet_lenet          64     0     0.991   \n",
       "1               1  lenet  keras_mxnet_lenet         128     0     0.988   \n",
       "2               1  lenet  keras_mxnet_lenet         256     0     0.987   \n",
       "3               1  lenet  keras_mxnet_lenet         512     0     0.986   \n",
       "4               1  lenet  keras_mxnet_lenet          64     1     0.982   \n",
       "\n",
       "   epochs   time  samples_sec  \n",
       "0      12  255.7          235  \n",
       "1      12  263.2          228  \n",
       "2      12  232.4          258  \n",
       "3      12  212.4          283  \n",
       "4      12    5.9        10203  "
      ]
     },
     "execution_count": 89,
     "metadata": {},
     "output_type": "execute_result"
    }
   ],
   "source": [
    "keras_mxnet_lenet = results.loc[results.script == 'keras_mxnet_lenet']\n",
    "keras_mxnet_lenet_optimized = results.loc[results.script == 'keras_mxnet_lenet_optimized']\n",
    "mxnet_lenet_official_sample = results.loc[results.script == 'mxnet_lenet_official_sample']\n",
    "keras_mxnet_lenet.head()"
   ]
  },
  {
   "cell_type": "code",
   "execution_count": 94,
   "metadata": {},
   "outputs": [
    {
     "data": {
      "image/png": "[encoded data removed]",
      "text/plain": [
       "<matplotlib.figure.Figure at 0x11bde2908>"
      ]
     },
     "metadata": {},
     "output_type": "display_data"
    }
   ],
   "source": [
    "def printResult(title, dataframe, range_acc):\n",
    "    cpu = dataframe.loc[dataframe.gpus == 0]\n",
    "    gpu = dataframe.loc[dataframe.gpus == 1]\n",
    "    multigpu4 = dataframe.loc[dataframe.gpus == 4]\n",
    "    multigpu8 = dataframe.loc[dataframe.gpus == 8]\n",
    "\n",
    "    best_cpu = cpu.loc[(cpu.accuracy >= range_acc[0]) & (cpu.accuracy <= range_acc[1])]\n",
    "    best_gpu = gpu.loc[(gpu.accuracy >= range_acc[0]) & (gpu.accuracy <= range_acc[1])]\n",
    "    best_multigpu4 = multigpu4.loc[(multigpu4.accuracy >= range_acc[0]) & (multigpu4.accuracy <= range_acc[1])]\n",
    "    best_multigpu8 = multigpu8.loc[(multigpu8.accuracy >= range_acc[0]) & (multigpu8.accuracy <= range_acc[1])]\n",
    "\n",
    "    x_values = [1,2,3,4]\n",
    "    y_values = [best_cpu.samples_sec.max(),\n",
    "            best_gpu.samples_sec.max(),\n",
    "            best_multigpu4.samples_sec.max(),\n",
    "            best_multigpu8.samples_sec.max()]\n",
    "\n",
    "    labels = list(['CPU', 'GPU', '4 GPU', '8 GPU'])\n",
    "    plt.plot(x_values, y_values, 'r')\n",
    "    plt.xticks(x_values, labels, rotation='vertical')\n",
    "    plt.xlabel('Hardware')\n",
    "    plt.ylabel('samples/seg')\n",
    "    plt.title('Performance evolution: ' + title)\n",
    "    plt.show()\n",
    "\n",
    "\n",
    "printResult(\"keras_mxnet_lenet\", keras_mxnet_lenet, [e)\n",
    "#printResult(keras_mxnet_lenet_optimized, [0.980,1])"
   ]
  }
 ],
 "metadata": {
  "kernelspec": {
   "display_name": "Python 3",
   "language": "python",
   "name": "python3"
  },
  "language_info": {
   "codemirror_mode": {
    "name": "ipython",
    "version": 3
   },
   "file_extension": ".py",
   "mimetype": "text/x-python",
   "name": "python",
   "nbconvert_exporter": "python",
   "pygments_lexer": "ipython3",
   "version": "3.6.0"
  }
 },
 "nbformat": 4,
 "nbformat_minor": 2
}
